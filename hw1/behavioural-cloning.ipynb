{
 "cells": [
  {
   "cell_type": "code",
   "execution_count": 18,
   "metadata": {},
   "outputs": [
    {
     "name": "stdout",
     "output_type": "stream",
     "text": [
      "\u001b[H\u001b[2J"
     ]
    }
   ],
   "source": [
    "clear"
   ]
  },
  {
   "cell_type": "code",
   "execution_count": 19,
   "metadata": {
    "collapsed": true
   },
   "outputs": [],
   "source": [
    "import pickle\n",
    "import tensorflow as tf\n",
    "import numpy as np\n",
    "import tf_util\n",
    "import gym\n",
    "import load_policy"
   ]
  },
  {
   "cell_type": "markdown",
   "metadata": {},
   "source": [
    "tf Graph Input"
   ]
  },
  {
   "cell_type": "code",
   "execution_count": 20,
   "metadata": {
    "collapsed": true
   },
   "outputs": [],
   "source": [
    "def nn(input):\n",
    "\n",
    "    with tf.name_scope('layer1'):\n",
    "        W0 = tf.Variable(tf.truncated_normal([11, 30], stddev=0.1))\n",
    "        b0 = tf.Variable(tf.constant(value=0.1, shape=[30]))\n",
    "        h0 = tf.matmul([input], W0) + b0\n",
    "\n",
    "    with tf.name_scope('layer1'):\n",
    "        W1 = tf.Variable(tf.truncated_normal([30, 30], stddev=0.1))\n",
    "        b1 = tf.Variable(tf.constant(value=0.1, shape=[30]))\n",
    "        h1 = tf.matmul(h0, W1) + b1\n",
    "\n",
    "    with tf.name_scope('layer1'):\n",
    "        W2 = tf.Variable(tf.truncated_normal([30, 3], stddev=0.1))\n",
    "        b2 = tf.Variable(tf.constant(value=0.1, shape=[3]))\n",
    "        h2 = tf.matmul(h1, W2) + b2\n",
    "\n",
    "    return h2"
   ]
  },
  {
   "cell_type": "code",
   "execution_count": 21,
   "metadata": {},
   "outputs": [],
   "source": [
    "expert_policy_file = \"experts/Hopper-v1.pkl\"\n",
    "envname = \"Hopper-v1\"\n",
    "render = True\n",
    "num_rollouts = 5"
   ]
  },
  {
   "cell_type": "code",
   "execution_count": 22,
   "metadata": {},
   "outputs": [
    {
     "name": "stdout",
     "output_type": "stream",
     "text": [
      "('obs', (1, 11), (1, 11))\n"
     ]
    }
   ],
   "source": [
    "policy_fn = load_policy.load_policy(expert_policy_file)"
   ]
  },
  {
   "cell_type": "markdown",
   "metadata": {},
   "source": [
    "SET UP tensorflow    "
   ]
  },
  {
   "cell_type": "code",
   "execution_count": 23,
   "metadata": {},
   "outputs": [
    {
     "name": "stderr",
     "output_type": "stream",
     "text": [
      "[2017-09-14 19:45:44,679] Making new env: Hopper-v1\n"
     ]
    }
   ],
   "source": [
    "input = tf.placeholder(tf.float32, [11])\n",
    "label = tf.placeholder(tf.float32, [3])\n",
    "\n",
    "pred = nn(input)\n",
    "\n",
    "cost = tf.losses.absolute_difference(label, pred[0])\n",
    "\n",
    "train_step = tf.train.AdamOptimizer(1e-4).minimize(cost)\n",
    "\n",
    "import gym\n",
    "env = gym.make(envname)\n",
    "max_steps = env.spec.timestep_limit\n",
    "\n",
    "returns = []\n",
    "observations = []\n",
    "actions = []"
   ]
  },
  {
   "cell_type": "code",
   "execution_count": 26,
   "metadata": {},
   "outputs": [
    {
     "ename": "IndentationError",
     "evalue": "expected an indented block (<ipython-input-26-f4a569c703e6>, line 32)",
     "output_type": "error",
     "traceback": [
      "\u001b[0;36m  File \u001b[0;32m\"<ipython-input-26-f4a569c703e6>\"\u001b[0;36m, line \u001b[0;32m32\u001b[0m\n\u001b[0;31m    _, cost_, pred_action = sess.run([train_step, cost, pred], feed_dict={input: observations[i], label: actions[i][0]})\u001b[0m\n\u001b[0m    ^\u001b[0m\n\u001b[0;31mIndentationError\u001b[0m\u001b[0;31m:\u001b[0m expected an indented block\n"
     ]
    }
   ],
   "source": [
    " with tf.Session() as sess:\n",
    "    tf_util.initialize()\n",
    "\n",
    "    for i in range(num_rollouts):\n",
    "        obs = env.reset()\n",
    "        one = False\n",
    "        totalr = 0.\n",
    "        steps = 0\n",
    "        while not done:\n",
    "            action = policy_fn(obs[None,:])\n",
    "            observations.append(obs)\n",
    "\n",
    "            actions.append(action)\n",
    "            obs, r, done, _ = env.step(action)\n",
    "            totalr += r\n",
    "            steps += 1\n",
    "            if render:\n",
    "                env.render()\n",
    "            if steps % 100 == 0: print(\"%i/%i\"%(steps, max_steps))\n",
    "            if steps >= max_steps:\n",
    "                break\n",
    "        returns.append(totalr)\n",
    "\n",
    "    expert_data = {'observations': np.array(observations),\n",
    "                   'actions': np.array(actions)}\n",
    "\n",
    "    observations = np.array(observations)\n",
    "    actions = np.array(actions)\n",
    "\n",
    "    for k in range(30):\n",
    "        #\n",
    "        for i in range(observations.shape[0]):\n",
    "            _, cost_, pred_action = sess.run([train_step, cost, pred], feed_dict={input: observations[i], label: actions[i][0]})\n",
    "\n",
    "            obs = env.reset()\n",
    "            done = False\n",
    "\n",
    "        while not done:\n",
    "            pred_action = sess.run(pred, feed_dict={input: obs})\n",
    "\n",
    "            obs, r, done, _ = env.step(pred_action)\n",
    "            if render:\n",
    "                env.render()"
   ]
  },
  {
   "cell_type": "markdown",
   "metadata": {},
   "source": [
    "\n",
    "\n",
    "\n",
    "\n"
   ]
  }
 ],
 "metadata": {
  "kernelspec": {
   "display_name": "Python 2",
   "language": "python",
   "name": "python2"
  },
  "language_info": {
   "codemirror_mode": {
    "name": "ipython",
    "version": 2
   },
   "file_extension": ".py",
   "mimetype": "text/x-python",
   "name": "python",
   "nbconvert_exporter": "python",
   "pygments_lexer": "ipython2",
   "version": "2.7.12"
  }
 },
 "nbformat": 4,
 "nbformat_minor": 2
}
