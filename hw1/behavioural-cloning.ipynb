{
 "cells": [
  {
   "cell_type": "markdown",
   "metadata": {},
   "source": [
    "ToDo:\n",
    "* HOw to plot using keras"
   ]
  },
  {
   "cell_type": "code",
   "execution_count": 1,
   "metadata": {},
   "outputs": [
    {
     "name": "stdout",
     "output_type": "stream",
     "text": [
      "Once deleted, variables cannot be recovered. Proceed (y/[n])? y\n",
      "env: MUJOCO_PY_MJKEY_PATH=/home/had/rl/mjpro131/bin/mjkey.txt\n",
      "env: MUJOCO_PY_MJPRO_PATH=/home/had/rl/mjpro131\n"
     ]
    }
   ],
   "source": [
    "%reset\n",
    "%env MUJOCO_PY_MJKEY_PATH=/home/had/rl/mjpro131/bin/mjkey.txt\n",
    "%env MUJOCO_PY_MJPRO_PATH=/home/had/rl/mjpro131"
   ]
  },
  {
   "cell_type": "code",
   "execution_count": 2,
   "metadata": {},
   "outputs": [],
   "source": [
    "import pickle\n",
    "import tensorflow as tf\n",
    "import numpy as np\n",
    "import tf_util\n",
    "import gym\n",
    "import load_policy\n",
    "import matplotlib.pyplot as plt\n",
    "\n",
    "import miscellaneous as msc"
   ]
  },
  {
   "cell_type": "code",
   "execution_count": 3,
   "metadata": {
    "collapsed": true
   },
   "outputs": [],
   "source": [
    "envname = \"Reacher-v1\"\n",
    "expert_policy_file = \"experts/\" + envname + \".pkl\"\n",
    "render = True\n",
    "num_rollouts = 5"
   ]
  },
  {
   "cell_type": "code",
   "execution_count": 4,
   "metadata": {},
   "outputs": [
    {
     "name": "stdout",
     "output_type": "stream",
     "text": [
      "('obs', (1, 11), (1, 11))\n"
     ]
    }
   ],
   "source": [
    "policy = load_policy.load_policy(expert_policy_file);"
   ]
  },
  {
   "cell_type": "markdown",
   "metadata": {},
   "source": [
    "SET UP tensorflow    "
   ]
  },
  {
   "cell_type": "code",
   "execution_count": 5,
   "metadata": {
    "collapsed": true
   },
   "outputs": [],
   "source": [
    "input = tf.placeholder(tf.float32, shape=(1,11))\n",
    "label = tf.placeholder(tf.float32, shape=(1,3))\n",
    "dimensions = [11, 3]\n",
    "pred = msc.neural_network(input, dimensions)\n",
    "\n",
    "cost = tf.losses.mean_squared_error(label, pred)\n",
    "train_step = tf.train.AdamOptimizer(1e-4).minimize(cost)"
   ]
  },
  {
   "cell_type": "code",
   "execution_count": 6,
   "metadata": {},
   "outputs": [
    {
     "name": "stderr",
     "output_type": "stream",
     "text": [
      "[2017-09-21 10:55:05,148] Making new env: Reacher-v1\n"
     ]
    }
   ],
   "source": [
    "sess = tf.InteractiveSession()\n",
    "sess.run(tf.global_variables_initializer())\n",
    "\n",
    "observations = []\n",
    "actions = []\n",
    "env = gym.make(envname)"
   ]
  },
  {
   "cell_type": "code",
   "execution_count": 13,
   "metadata": {},
   "outputs": [],
   "source": [
    "for i in range(num_rollouts):\n",
    "    observations_rollout, actions_rollout = msc.rollout(env, policy, render)\n",
    "    observations += observations_rollout\n",
    "    actions += actions_rollout"
   ]
  },
  {
   "cell_type": "markdown",
   "metadata": {},
   "source": [
    "Train policy"
   ]
  },
  {
   "cell_type": "code",
   "execution_count": 66,
   "metadata": {
    "collapsed": true
   },
   "outputs": [],
   "source": [
    "def baseline_model(input_dimension, output_dimension):\n",
    "    model = Sequential()\n",
    "    model.add(Dense(input_dimension/2, input_dim=input_dimension, init='normal', activation='relu'))\n",
    "    model.add(Dense(output_dimension, init='normal'))\n",
    "\n",
    "    model.compile(loss='mse', optimizer='adam', metrics=['mae'])\n",
    "    return model"
   ]
  },
  {
   "cell_type": "code",
   "execution_count": 67,
   "metadata": {},
   "outputs": [
    {
     "name": "stderr",
     "output_type": "stream",
     "text": [
      "/usr/local/lib/python2.7/dist-packages/ipykernel_launcher.py:3: UserWarning: Update your `Dense` call to the Keras 2 API: `Dense(5, activation=\"relu\", kernel_initializer=\"normal\", input_dim=11)`\n",
      "  This is separate from the ipykernel package so we can avoid doing imports until\n",
      "/usr/local/lib/python2.7/dist-packages/ipykernel_launcher.py:4: UserWarning: Update your `Dense` call to the Keras 2 API: `Dense(2, kernel_initializer=\"normal\")`\n",
      "  after removing the cwd from sys.path.\n"
     ]
    },
    {
     "name": "stdout",
     "output_type": "stream",
     "text": [
      "Epoch 1/10\n",
      "250/250 [==============================] - 0s - loss: 0.0080 - mean_absolute_error: 0.0515     \n",
      "Epoch 2/10\n",
      "250/250 [==============================] - 0s - loss: 0.0079 - mean_absolute_error: 0.0509     \n",
      "Epoch 3/10\n",
      "250/250 [==============================] - 0s - loss: 0.0078 - mean_absolute_error: 0.0504     \n",
      "Epoch 4/10\n",
      "250/250 [==============================] - 0s - loss: 0.0076 - mean_absolute_error: 0.0502     \n",
      "Epoch 5/10\n",
      "250/250 [==============================] - 0s - loss: 0.0075 - mean_absolute_error: 0.0500     \n",
      "Epoch 6/10\n",
      "250/250 [==============================] - 0s - loss: 0.0073 - mean_absolute_error: 0.0498     \n",
      "Epoch 7/10\n",
      "250/250 [==============================] - 0s - loss: 0.0072 - mean_absolute_error: 0.0496     \n",
      "Epoch 8/10\n",
      "250/250 [==============================] - 0s - loss: 0.0070 - mean_absolute_error: 0.0494     \n",
      "Epoch 9/10\n",
      "250/250 [==============================] - 0s - loss: 0.0068 - mean_absolute_error: 0.0493     \n",
      "Epoch 10/10\n",
      "250/250 [==============================] - 0s - loss: 0.0066 - mean_absolute_error: 0.0495     \n"
     ]
    }
   ],
   "source": [
    "import random\n",
    "from keras.models import Sequential\n",
    "from keras.layers import Dense, Lambda\n",
    "\n",
    "observations_array = np.array(observations)\n",
    "input_dimension = observations_array.shape[1]\n",
    "actions_array = np.array(actions)\n",
    "output_dimension = actions_array.shape[2]\n",
    "\n",
    "policy = baseline_model(input_dimension, output_dimension)\n",
    "history = policy.fit(observations_array, actions_array.reshape(-1, output_dimension))"
   ]
  },
  {
   "cell_type": "code",
   "execution_count": 68,
   "metadata": {},
   "outputs": [
    {
     "data": {
      "image/png": "[encoded data removed]",
      "text/plain": [
       "<matplotlib.figure.Figure at 0x7fe6bc27e410>"
      ]
     },
     "metadata": {},
     "output_type": "display_data"
    },
    {
     "data": {
      "image/png": "[encoded data removed]",
      "text/plain": [
       "<matplotlib.figure.Figure at 0x7fe69c4e8c90>"
      ]
     },
     "metadata": {},
     "output_type": "display_data"
    }
   ],
   "source": [
    "#  \"Mean absolute error\"\n",
    "plt.plot(history.history['mean_absolute_error'])\n",
    "plt.title('Mean absolute error')\n",
    "plt.ylabel('mean absolute error')\n",
    "plt.xlabel('epoch')\n",
    "plt.show()\n",
    "# \"Loss\"\n",
    "plt.plot(history.history['loss'])\n",
    "plt.title('model loss')\n",
    "plt.ylabel('loss')\n",
    "plt.xlabel('epoch')\n",
    "plt.show()\n"
   ]
  },
  {
   "cell_type": "code",
   "execution_count": 69,
   "metadata": {
    "collapsed": true
   },
   "outputs": [],
   "source": [
    "#predicted_actions = []\n",
    "#for k in range(1):\n",
    "#    for observation, action in zip(observations, actions):\n",
    "#        train_step.run(feed_dict={input: observation, label: action})\n",
    "#        pred_action = sess.run(pred, feed_dict={input: observation})\n",
    "#        predicted_actions.append(pred_action)"
   ]
  },
  {
   "cell_type": "code",
   "execution_count": 70,
   "metadata": {
    "collapsed": true
   },
   "outputs": [],
   "source": [
    "#predicted_actions_array = np.array(predicted_actions)\n",
    "#actual_actions_array = np.array(actions)\n",
    "#evaluated_cost = np.sum(np.abs(actual_actions_array-predicted_actions_array),axis=2)"
   ]
  },
  {
   "cell_type": "code",
   "execution_count": 71,
   "metadata": {},
   "outputs": [],
   "source": [
    "#plt.figure(figsize=(16,9))\n",
    "#plt.plot(evaluated_cost)\n",
    "#plt.show()"
   ]
  },
  {
   "cell_type": "code",
   "execution_count": 7,
   "metadata": {},
   "outputs": [],
   "source": [
    "import tqdm"
   ]
  },
  {
   "cell_type": "code",
   "execution_count": null,
   "metadata": {},
   "outputs": [
    {
     "name": "stderr",
     "output_type": "stream",
     "text": [
      "\r",
      "  0%|          | 0/5 [00:00<?, ?it/s]"
     ]
    }
   ],
   "source": [
    "returns = []\n",
    "observations = []\n",
    "actions = []\n",
    "steps_numbers = []\n",
    "max_steps = env.spec.tags.get('wrapper_config.TimeLimit.max_episode_steps')\n",
    "render = True\n",
    "\n",
    "for i in tqdm.tqdm(range(num_rollouts)):\n",
    "    obs = env.reset()\n",
    "    done = False\n",
    "    totalr = 0.\n",
    "    steps = 0\n",
    "    while not done:\n",
    "        action = policy(obs[None, :])\n",
    "        observations.append(obs)\n",
    "        actions.append(action)\n",
    "        obs, r, done, _ = env.step(action)\n",
    "        totalr += r\n",
    "        steps += 1\n",
    "        if render:\n",
    "            env.render()\n",
    "        if steps >= max_steps:\n",
    "            break\n",
    "    steps_numbers.append(steps)\n",
    "    returns.append(totalr)"
   ]
  },
  {
   "cell_type": "markdown",
   "metadata": {},
   "source": [
    "\n",
    "\n",
    "\n",
    "\n"
   ]
  }
 ],
 "metadata": {
  "kernelspec": {
   "display_name": "Python 2",
   "language": "python",
   "name": "python2"
  },
  "language_info": {
   "codemirror_mode": {
    "name": "ipython",
    "version": 2
   },
   "file_extension": ".py",
   "mimetype": "text/x-python",
   "name": "python",
   "nbconvert_exporter": "python",
   "pygments_lexer": "ipython2",
   "version": "2.7.12"
  }
 },
 "nbformat": 4,
 "nbformat_minor": 2
}
