{
 "cells": [
  {
   "cell_type": "markdown",
   "metadata": {},
   "source": [
    "ToDo:\n",
    "* Would shuffling prior to training help?\n",
    "* Why does Keras fit method give better results than the tf implementation?\n",
    "* Mean  and  standard  deviation  of  the  return  over  multiple  rollouts  in  a table\n",
    "* What rewards function is hard-coded in the environments?"
   ]
  },
  {
   "cell_type": "code",
   "execution_count": 1,
   "metadata": {},
   "outputs": [
    {
     "name": "stdout",
     "output_type": "stream",
     "text": [
      "env: MUJOCO_PY_MJKEY_PATH=/home/had/rl/mjpro131/bin/mjkey.txt\n",
      "env: MUJOCO_PY_MJPRO_PATH=/home/had/rl/mjpro131\n"
     ]
    }
   ],
   "source": [
    "%env MUJOCO_PY_MJKEY_PATH=/home/had/rl/mjpro131/bin/mjkey.txt\n",
    "%env MUJOCO_PY_MJPRO_PATH=/home/had/rl/mjpro131"
   ]
  },
  {
   "cell_type": "code",
   "execution_count": 21,
   "metadata": {},
   "outputs": [],
   "source": [
    "import pickle\n",
    "import tensorflow as tf\n",
    "import numpy as np\n",
    "import tf_util\n",
    "import gym\n",
    "import load_policy\n",
    "import matplotlib.pyplot as plt\n",
    "\n",
    "import miscellaneous as msc\n",
    "\n",
    "from tqdm import tqdm\n",
    "\n",
    "import pandas as pd"
   ]
  },
  {
   "cell_type": "code",
   "execution_count": 3,
   "metadata": {
    "collapsed": true
   },
   "outputs": [],
   "source": [
    "envname = \"Hopper-v1\"\n",
    "expert_policy_file = \"experts/\" + envname + \".pkl\"\n",
    "render = False\n",
    "num_rollouts = 20"
   ]
  },
  {
   "cell_type": "code",
   "execution_count": 4,
   "metadata": {},
   "outputs": [
    {
     "name": "stdout",
     "output_type": "stream",
     "text": [
      "('obs', (1, 11), (1, 11))\n"
     ]
    }
   ],
   "source": [
    "policy = load_policy.load_policy(expert_policy_file);"
   ]
  },
  {
   "cell_type": "markdown",
   "metadata": {},
   "source": [
    "SET UP tensorflow    "
   ]
  },
  {
   "cell_type": "code",
   "execution_count": 5,
   "metadata": {
    "collapsed": true
   },
   "outputs": [],
   "source": [
    "sess = tf.InteractiveSession()\n",
    "sess.run(tf.global_variables_initializer())"
   ]
  },
  {
   "cell_type": "code",
   "execution_count": 7,
   "metadata": {},
   "outputs": [
    {
     "name": "stderr",
     "output_type": "stream",
     "text": [
      "[2017-09-22 18:44:06,254] Making new env: Hopper-v1\n",
      "100%|██████████| 20/20 [00:15<00:00,  1.31it/s]\n"
     ]
    }
   ],
   "source": [
    "observations = []\n",
    "actions = []\n",
    "rewards = []\n",
    "steps_numbers = []\n",
    "env = gym.make(envname)\n",
    "\n",
    "for i in tqdm(range(num_rollouts)):\n",
    "    observations_rollout, actions_rollout, total_reward, number_steps = msc.rollout(env, policy, render)\n",
    "    observations += observations_rollout\n",
    "    actions += actions_rollout\n",
    "    rewards.append(total_reward)\n",
    "    steps_numbers.append(number_steps)\n",
    "    "
   ]
  },
  {
   "cell_type": "code",
   "execution_count": 8,
   "metadata": {},
   "outputs": [],
   "source": [
    "expert_data = {'observations': np.array(observations),\n",
    "                'actions': np.array(actions),\n",
    "                'returns': np.array(rewards),\n",
    "                'steps': np.array(steps_numbers)}"
   ]
  },
  {
   "cell_type": "markdown",
   "metadata": {},
   "source": [
    "Train policy"
   ]
  },
  {
   "cell_type": "code",
   "execution_count": 9,
   "metadata": {
    "collapsed": true
   },
   "outputs": [],
   "source": [
    "def baseline_model(input_dimension, output_dimension):\n",
    "    model = Sequential()\n",
    "    model.add(Dense(input_dimension/2, input_dim=input_dimension, init='normal', activation='relu'))\n",
    "    model.add(Dense(output_dimension, init='normal'))\n",
    "\n",
    "    model.compile(loss='mse', optimizer='adam', metrics=['mae'])\n",
    "    return model"
   ]
  },
  {
   "cell_type": "code",
   "execution_count": 10,
   "metadata": {},
   "outputs": [
    {
     "name": "stderr",
     "output_type": "stream",
     "text": [
      "Using TensorFlow backend.\n",
      "/usr/local/lib/python2.7/dist-packages/ipykernel_launcher.py:3: UserWarning: Update your `Dense` call to the Keras 2 API: `Dense(5, activation=\"relu\", kernel_initializer=\"normal\", input_dim=11)`\n",
      "  This is separate from the ipykernel package so we can avoid doing imports until\n",
      "/usr/local/lib/python2.7/dist-packages/ipykernel_launcher.py:4: UserWarning: Update your `Dense` call to the Keras 2 API: `Dense(3, kernel_initializer=\"normal\")`\n",
      "  after removing the cwd from sys.path.\n"
     ]
    },
    {
     "name": "stdout",
     "output_type": "stream",
     "text": [
      "Epoch 1/20\n",
      "20000/20000 [==============================] - 1s - loss: 1.2175 - mean_absolute_error: 0.7943     \n",
      "Epoch 2/20\n",
      "20000/20000 [==============================] - 1s - loss: 0.4155 - mean_absolute_error: 0.4372     \n",
      "Epoch 3/20\n",
      "20000/20000 [==============================] - 1s - loss: 0.2567 - mean_absolute_error: 0.3311     \n",
      "Epoch 4/20\n",
      "20000/20000 [==============================] - 0s - loss: 0.2051 - mean_absolute_error: 0.3022     \n",
      "Epoch 5/20\n",
      "20000/20000 [==============================] - 1s - loss: 0.1689 - mean_absolute_error: 0.2800     \n",
      "Epoch 6/20\n",
      "20000/20000 [==============================] - 0s - loss: 0.1420 - mean_absolute_error: 0.2631     \n",
      "Epoch 7/20\n",
      "20000/20000 [==============================] - 0s - loss: 0.1257 - mean_absolute_error: 0.2498     \n",
      "Epoch 8/20\n",
      "20000/20000 [==============================] - 1s - loss: 0.1134 - mean_absolute_error: 0.2376     \n",
      "Epoch 9/20\n",
      "20000/20000 [==============================] - 0s - loss: 0.1021 - mean_absolute_error: 0.2255     \n",
      "Epoch 10/20\n",
      "20000/20000 [==============================] - 0s - loss: 0.0929 - mean_absolute_error: 0.2140     \n",
      "Epoch 11/20\n",
      "20000/20000 [==============================] - 1s - loss: 0.0850 - mean_absolute_error: 0.2032     \n",
      "Epoch 12/20\n",
      "20000/20000 [==============================] - 1s - loss: 0.0794 - mean_absolute_error: 0.1955     \n",
      "Epoch 13/20\n",
      "20000/20000 [==============================] - 0s - loss: 0.0750 - mean_absolute_error: 0.1905     \n",
      "Epoch 14/20\n",
      "20000/20000 [==============================] - 0s - loss: 0.0721 - mean_absolute_error: 0.1868     \n",
      "Epoch 15/20\n",
      "20000/20000 [==============================] - 0s - loss: 0.0695 - mean_absolute_error: 0.1844     \n",
      "Epoch 16/20\n",
      "20000/20000 [==============================] - 0s - loss: 0.0674 - mean_absolute_error: 0.1816     \n",
      "Epoch 17/20\n",
      "20000/20000 [==============================] - 0s - loss: 0.0657 - mean_absolute_error: 0.1793     \n",
      "Epoch 18/20\n",
      "20000/20000 [==============================] - 0s - loss: 0.0642 - mean_absolute_error: 0.1777     \n",
      "Epoch 19/20\n",
      "20000/20000 [==============================] - 0s - loss: 0.0628 - mean_absolute_error: 0.1764     \n",
      "Epoch 20/20\n",
      "20000/20000 [==============================] - 0s - loss: 0.0617 - mean_absolute_error: 0.1746     \n"
     ]
    }
   ],
   "source": [
    "import random\n",
    "from keras.models import Sequential\n",
    "from keras.layers import Dense, Lambda\n",
    "\n",
    "observations_array = np.array(observations)\n",
    "input_dimension = observations_array.shape[1]\n",
    "actions_array = np.array(actions)\n",
    "output_dimension = actions_array.shape[2]\n",
    "\n",
    "policy = baseline_model(input_dimension, output_dimension)\n",
    "history = policy.fit(observations_array, actions_array.reshape(-1, output_dimension), epochs=20)"
   ]
  },
  {
   "cell_type": "code",
   "execution_count": 11,
   "metadata": {},
   "outputs": [
    {
     "data": {
      "image/png": "[encoded data removed]",
      "text/plain": [
       "<matplotlib.figure.Figure at 0x7f80c658b090>"
      ]
     },
     "metadata": {},
     "output_type": "display_data"
    },
    {
     "data": {
      "image/png": "[encoded data removed]",
      "text/plain": [
       "<matplotlib.figure.Figure at 0x7f80c64ae390>"
      ]
     },
     "metadata": {},
     "output_type": "display_data"
    }
   ],
   "source": [
    "#  \"Mean absolute error\"\n",
    "plt.plot(history.history['mean_absolute_error'])\n",
    "plt.title('Mean absolute error')\n",
    "plt.ylabel('mean absolute error')\n",
    "plt.xlabel('epoch')\n",
    "plt.show()\n",
    "# \"Loss\"\n",
    "plt.plot(history.history['loss'])\n",
    "plt.title('model loss')\n",
    "plt.ylabel('loss')\n",
    "plt.xlabel('epoch')\n",
    "plt.show()\n"
   ]
  },
  {
   "cell_type": "code",
   "execution_count": 12,
   "metadata": {},
   "outputs": [
    {
     "name": "stderr",
     "output_type": "stream",
     "text": [
      "100%|██████████| 20/20 [00:02<00:00,  8.15it/s]\n"
     ]
    }
   ],
   "source": [
    "rewards = []\n",
    "observations = []\n",
    "actions = []\n",
    "steps_numbers = []\n",
    "max_steps = env.spec.tags.get('wrapper_config.TimeLimit.max_episode_steps')\n",
    "render = False\n",
    "\n",
    "for i in tqdm(range(num_rollouts)):\n",
    "    obs = env.reset()\n",
    "    done = False\n",
    "    totalreward = 0.\n",
    "    steps = 0\n",
    "    while not done:\n",
    "        action = policy.predict(obs[None, :])\n",
    "        observations.append(obs)\n",
    "        actions.append(action)\n",
    "        obs, reward, done, info = env.step(action)\n",
    "        totalreward += reward\n",
    "        steps += 1\n",
    "        if render:\n",
    "            env.render()\n",
    "        if steps >= max_steps:\n",
    "            break\n",
    "    steps_numbers.append(steps)\n",
    "    rewards.append(totalreward)\n",
    "\n",
    "trained_policy_data = {'observations': np.array(observations),\n",
    "                'actions': np.array(actions),\n",
    "                'returns': np.array(rewards),\n",
    "                'steps': np.array(steps_numbers)}"
   ]
  },
  {
   "cell_type": "code",
   "execution_count": 23,
   "metadata": {
    "collapsed": true
   },
   "outputs": [],
   "source": [
    "def one_data_table_stats(data):\n",
    "    mean = data['returns'].mean()\n",
    "    std = data['returns'].std()\n",
    "    x = data['steps']\n",
    "    pct_full_steps =  (x / x.max()).mean()\n",
    "\n",
    "    return pd.Series({\n",
    "        'mean reward': mean,\n",
    "        'std reward': std,\n",
    "        'pct full rollout': pct_full_steps\n",
    "    })"
   ]
  },
  {
   "cell_type": "code",
   "execution_count": 24,
   "metadata": {},
   "outputs": [],
   "source": [
    "df = pd.DataFrame({\n",
    "    'expert': one_data_table_stats(expert_data),\n",
    "    'imitation': one_data_table_stats(trained_policy_data)\n",
    "})"
   ]
  },
  {
   "cell_type": "code",
   "execution_count": 25,
   "metadata": {},
   "outputs": [
    {
     "name": "stdout",
     "output_type": "stream",
     "text": [
      "Analyzing experiment Hopper-v1\n",
      "                       expert   imitation\n",
      "mean reward       3777.431038  270.129102\n",
      "pct full rollout     1.000000    0.100000\n",
      "std reward           3.521239    2.589173\n"
     ]
    }
   ],
   "source": [
    "print (\"Analyzing experiment \" + envname)\n",
    "print (df)"
   ]
  },
  {
   "cell_type": "markdown",
   "metadata": {},
   "source": [
    "\n",
    "\n",
    "\n",
    "\n"
   ]
  }
 ],
 "metadata": {
  "kernelspec": {
   "display_name": "Python 2",
   "language": "python",
   "name": "python2"
  },
  "language_info": {
   "codemirror_mode": {
    "name": "ipython",
    "version": 2
   },
   "file_extension": ".py",
   "mimetype": "text/x-python",
   "name": "python",
   "nbconvert_exporter": "python",
   "pygments_lexer": "ipython2",
   "version": "2.7.12"
  }
 },
 "nbformat": 4,
 "nbformat_minor": 2
}
